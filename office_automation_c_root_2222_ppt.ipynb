{
 "cells": [
  {
   "cell_type": "markdown",
   "id": "97b71a02",
   "metadata": {},
   "source": [
    "# 📊📄📈 PyWin32 Office 자동화 실습 노트북 (C:\\ 루트 저장 + PowerPoint)\n",
    "\n",
    "이 노트북은 Windows 환경에서 **C 드라이브 루트**에 파일을 저장하며, PyWin32를 사용해\n",
    "- Excel 자동화 3가지\n",
    "- PowerPoint 성적표 자동 생성\n",
    "- Word 자동화 3가지\n",
    "- Outlook Gemini API 자동 답장\n",
    "\n",
    "예제를 포함합니다.\n"
   ]
  },
  {
   "cell_type": "code",
   "execution_count": 1,
   "id": "25afb0e1",
   "metadata": {},
   "outputs": [
    {
     "name": "stdout",
     "output_type": "stream",
     "text": [
      "Requirement already satisfied: pywin32 in c:\\users\\student\\appdata\\roaming\\python\\python313\\site-packages (310)\n",
      "Collecting google-genai\n",
      "  Downloading google_genai-1.12.1-py3-none-any.whl.metadata (32 kB)\n",
      "Requirement already satisfied: pandas in c:\\users\\student\\appdata\\local\\programs\\python\\python313\\lib\\site-packages (2.2.3)\n",
      "Requirement already satisfied: openpyxl in c:\\users\\student\\appdata\\local\\programs\\python\\python313\\lib\\site-packages (3.1.5)\n",
      "Collecting anyio<5.0.0,>=4.8.0 (from google-genai)\n",
      "  Downloading anyio-4.9.0-py3-none-any.whl.metadata (4.7 kB)\n",
      "Requirement already satisfied: google-auth<3.0.0,>=2.14.1 in c:\\users\\student\\appdata\\local\\programs\\python\\python313\\lib\\site-packages (from google-genai) (2.39.0)\n",
      "Collecting httpx<1.0.0,>=0.28.1 (from google-genai)\n",
      "  Downloading httpx-0.28.1-py3-none-any.whl.metadata (7.1 kB)\n",
      "Collecting pydantic<3.0.0,>=2.0.0 (from google-genai)\n",
      "  Downloading pydantic-2.11.3-py3-none-any.whl.metadata (65 kB)\n",
      "Requirement already satisfied: requests<3.0.0,>=2.28.1 in c:\\users\\student\\appdata\\local\\programs\\python\\python313\\lib\\site-packages (from google-genai) (2.32.3)\n",
      "Collecting websockets<15.1.0,>=13.0.0 (from google-genai)\n",
      "  Downloading websockets-15.0.1-cp313-cp313-win_amd64.whl.metadata (7.0 kB)\n",
      "Requirement already satisfied: typing-extensions<5.0.0,>=4.11.0 in c:\\users\\student\\appdata\\local\\programs\\python\\python313\\lib\\site-packages (from google-genai) (4.13.2)\n",
      "Requirement already satisfied: idna>=2.8 in c:\\users\\student\\appdata\\local\\programs\\python\\python313\\lib\\site-packages (from anyio<5.0.0,>=4.8.0->google-genai) (3.10)\n",
      "Collecting sniffio>=1.1 (from anyio<5.0.0,>=4.8.0->google-genai)\n",
      "  Downloading sniffio-1.3.1-py3-none-any.whl.metadata (3.9 kB)\n",
      "Requirement already satisfied: cachetools<6.0,>=2.0.0 in c:\\users\\student\\appdata\\local\\programs\\python\\python313\\lib\\site-packages (from google-auth<3.0.0,>=2.14.1->google-genai) (5.5.2)\n",
      "Requirement already satisfied: pyasn1-modules>=0.2.1 in c:\\users\\student\\appdata\\local\\programs\\python\\python313\\lib\\site-packages (from google-auth<3.0.0,>=2.14.1->google-genai) (0.4.2)\n",
      "Requirement already satisfied: rsa<5,>=3.1.4 in c:\\users\\student\\appdata\\local\\programs\\python\\python313\\lib\\site-packages (from google-auth<3.0.0,>=2.14.1->google-genai) (4.9.1)\n",
      "Requirement already satisfied: certifi in c:\\users\\student\\appdata\\local\\programs\\python\\python313\\lib\\site-packages (from httpx<1.0.0,>=0.28.1->google-genai) (2025.4.26)\n",
      "Collecting httpcore==1.* (from httpx<1.0.0,>=0.28.1->google-genai)\n",
      "  Downloading httpcore-1.0.9-py3-none-any.whl.metadata (21 kB)\n",
      "Collecting h11>=0.16 (from httpcore==1.*->httpx<1.0.0,>=0.28.1->google-genai)\n",
      "  Downloading h11-0.16.0-py3-none-any.whl.metadata (8.3 kB)\n",
      "Collecting annotated-types>=0.6.0 (from pydantic<3.0.0,>=2.0.0->google-genai)\n",
      "  Downloading annotated_types-0.7.0-py3-none-any.whl.metadata (15 kB)\n",
      "Collecting pydantic-core==2.33.1 (from pydantic<3.0.0,>=2.0.0->google-genai)\n",
      "  Downloading pydantic_core-2.33.1-cp313-cp313-win_amd64.whl.metadata (6.9 kB)\n",
      "Collecting typing-inspection>=0.4.0 (from pydantic<3.0.0,>=2.0.0->google-genai)\n",
      "  Downloading typing_inspection-0.4.0-py3-none-any.whl.metadata (2.6 kB)\n",
      "Requirement already satisfied: charset-normalizer<4,>=2 in c:\\users\\student\\appdata\\local\\programs\\python\\python313\\lib\\site-packages (from requests<3.0.0,>=2.28.1->google-genai) (3.4.1)\n",
      "Requirement already satisfied: urllib3<3,>=1.21.1 in c:\\users\\student\\appdata\\local\\programs\\python\\python313\\lib\\site-packages (from requests<3.0.0,>=2.28.1->google-genai) (2.4.0)\n",
      "Requirement already satisfied: pyasn1>=0.1.3 in c:\\users\\student\\appdata\\local\\programs\\python\\python313\\lib\\site-packages (from rsa<5,>=3.1.4->google-auth<3.0.0,>=2.14.1->google-genai) (0.6.1)\n",
      "Requirement already satisfied: numpy>=1.26.0 in c:\\users\\student\\appdata\\local\\programs\\python\\python313\\lib\\site-packages (from pandas) (2.2.5)\n",
      "Requirement already satisfied: python-dateutil>=2.8.2 in c:\\users\\student\\appdata\\roaming\\python\\python313\\site-packages (from pandas) (2.9.0.post0)\n",
      "Requirement already satisfied: pytz>=2020.1 in c:\\users\\student\\appdata\\local\\programs\\python\\python313\\lib\\site-packages (from pandas) (2025.2)\n",
      "Requirement already satisfied: tzdata>=2022.7 in c:\\users\\student\\appdata\\local\\programs\\python\\python313\\lib\\site-packages (from pandas) (2025.2)\n",
      "Requirement already satisfied: et-xmlfile in c:\\users\\student\\appdata\\local\\programs\\python\\python313\\lib\\site-packages (from openpyxl) (2.0.0)\n",
      "Requirement already satisfied: six>=1.5 in c:\\users\\student\\appdata\\roaming\\python\\python313\\site-packages (from python-dateutil>=2.8.2->pandas) (1.17.0)\n",
      "Downloading google_genai-1.12.1-py3-none-any.whl (165 kB)\n",
      "Downloading anyio-4.9.0-py3-none-any.whl (100 kB)\n",
      "Downloading httpx-0.28.1-py3-none-any.whl (73 kB)\n",
      "Downloading httpcore-1.0.9-py3-none-any.whl (78 kB)\n",
      "Downloading pydantic-2.11.3-py3-none-any.whl (443 kB)\n",
      "Downloading pydantic_core-2.33.1-cp313-cp313-win_amd64.whl (2.0 MB)\n",
      "   ---------------------------------------- 0.0/2.0 MB ? eta -:--:--\n",
      "   ---------------------------------------- 2.0/2.0 MB 29.2 MB/s eta 0:00:00\n",
      "Downloading websockets-15.0.1-cp313-cp313-win_amd64.whl (176 kB)\n",
      "Downloading annotated_types-0.7.0-py3-none-any.whl (13 kB)\n",
      "Downloading h11-0.16.0-py3-none-any.whl (37 kB)\n",
      "Downloading sniffio-1.3.1-py3-none-any.whl (10 kB)\n",
      "Downloading typing_inspection-0.4.0-py3-none-any.whl (14 kB)\n",
      "Installing collected packages: websockets, typing-inspection, sniffio, pydantic-core, h11, annotated-types, pydantic, httpcore, anyio, httpx, google-genai\n",
      "\n",
      "   ----------------------------------------  0/11 [websockets]\n",
      "   ------------------ ---------------------  5/11 [annotated-types]\n",
      "   --------------------- ------------------  6/11 [pydantic]\n",
      "   --------------------- ------------------  6/11 [pydantic]\n",
      "   ------------------------- --------------  7/11 [httpcore]\n",
      "   ----------------------------- ----------  8/11 [anyio]\n",
      "   -------------------------------- -------  9/11 [httpx]\n",
      "   ------------------------------------ --- 10/11 [google-genai]\n",
      "   ---------------------------------------- 11/11 [google-genai]\n",
      "\n",
      "Successfully installed annotated-types-0.7.0 anyio-4.9.0 google-genai-1.12.1 h11-0.16.0 httpcore-1.0.9 httpx-0.28.1 pydantic-2.11.3 pydantic-core-2.33.1 sniffio-1.3.1 typing-inspection-0.4.0 websockets-15.0.1\n",
      "패키지 설치 확인\n"
     ]
    }
   ],
   "source": [
    "# 필요한 패키지 설치 (최초 1회)\n",
    "# !pip install pywin32 google-genai pandas openpyxl\n",
    "print(\"패키지 설치 확인\")"
   ]
  },
  {
   "cell_type": "code",
   "execution_count": 12,
   "id": "a906e2e2",
   "metadata": {},
   "outputs": [
    {
     "name": "stdout",
     "output_type": "stream",
     "text": [
      "저장: C:\\학생점수.xlsx\n"
     ]
    }
   ],
   "source": [
    "# 📈 Excel 예제 1: 새 통합 문서 생성 → C:\\학생점수.xlsx 저장\n",
    "import win32com.client as win32\n",
    "\n",
    "excel = win32.gencache.EnsureDispatch('Excel.Application')\n",
    "excel.Visible = True\n",
    "wb = excel.Workbooks.Add()\n",
    "ws = wb.Worksheets('Sheet1')\n",
    "\n",
    "data = [['이름','국어','영어','수학'],['철수',90,85,92],['영희',88,79,95],['민수',75,80,78]]\n",
    "for r, row in enumerate(data, start=1):\n",
    "    for c, val in enumerate(row, start=1):\n",
    "        ws.Cells(r,c).Value = val\n",
    "\n",
    "path = r'C:\\학생점수.xlsx'\n",
    "wb.SaveAs(path)\n",
    "print(\"저장:\", path)\n",
    "wb.Close(False); excel.Quit()"
   ]
  },
  {
   "cell_type": "markdown",
   "id": "c6103061",
   "metadata": {},
   "source": []
  },
  {
   "cell_type": "code",
   "execution_count": 22,
   "id": "3d035067",
   "metadata": {},
   "outputs": [
    {
     "name": "stdout",
     "output_type": "stream",
     "text": [
      "B2 업데이트: 140.0\n"
     ]
    }
   ],
   "source": [
    "# 📈 Excel 예제 2: C:\\학생점수.xlsx 열기 → B2 +5 점 → 저장\n",
    "import win32com.client as win32, os\n",
    "\n",
    "path = r'C:\\학생점수.xlsx'\n",
    "if not os.path.exists(path):\n",
    "    raise FileNotFoundError(path + \" 없음\")\n",
    "\n",
    "excel = win32.gencache.EnsureDispatch('Excel.Application')\n",
    "excel.Visible = True\n",
    "wb = excel.Workbooks.Open(path)\n",
    "ws = wb.Worksheets('Sheet1')\n",
    "\n",
    "orig = ws.Range(\"B2\").Value\n",
    "ws.Range(\"B2\").Value = orig + 5\n",
    "wb.Save()\n",
    "print(\"B2 업데이트:\", ws.Range(\"B2\").Value)\n",
    "\n",
    "wb.Close(False); excel.Quit()"
   ]
  },
  {
   "cell_type": "code",
   "execution_count": 27,
   "id": "28f52e92",
   "metadata": {},
   "outputs": [
    {
     "ename": "FileNotFoundError",
     "evalue": "[WinError 3] 지정된 경로를 찾을 수 없습니다: ''",
     "output_type": "error",
     "traceback": [
      "\u001b[31m---------------------------------------------------------------------------\u001b[39m",
      "\u001b[31mFileNotFoundError\u001b[39m                         Traceback (most recent call last)",
      "\u001b[36mCell\u001b[39m\u001b[36m \u001b[39m\u001b[32mIn[27]\u001b[39m\u001b[32m, line 40\u001b[39m\n\u001b[32m     37\u001b[39m wb.Sheets(\u001b[33m'\u001b[39m\u001b[33mPlaceholder\u001b[39m\u001b[33m'\u001b[39m).Delete()\n\u001b[32m     39\u001b[39m \u001b[38;5;66;03m# --- 8) 통합 문서 저장 & 종료 ---\u001b[39;00m\n\u001b[32m---> \u001b[39m\u001b[32m40\u001b[39m \u001b[43mos\u001b[49m\u001b[43m.\u001b[49m\u001b[43mmakedirs\u001b[49m\u001b[43m(\u001b[49m\u001b[43mos\u001b[49m\u001b[43m.\u001b[49m\u001b[43mpath\u001b[49m\u001b[43m.\u001b[49m\u001b[43mdirname\u001b[49m\u001b[43m(\u001b[49m\u001b[43moutput_path\u001b[49m\u001b[43m)\u001b[49m\u001b[43m,\u001b[49m\u001b[43m \u001b[49m\u001b[43mexist_ok\u001b[49m\u001b[43m=\u001b[49m\u001b[38;5;28;43;01mTrue\u001b[39;49;00m\u001b[43m)\u001b[49m\n\u001b[32m     41\u001b[39m wb.SaveAs(output_path)\n\u001b[32m     42\u001b[39m wb.Close(\u001b[38;5;28;01mFalse\u001b[39;00m)\n",
      "\u001b[36mFile \u001b[39m\u001b[32m<frozen os>:227\u001b[39m, in \u001b[36mmakedirs\u001b[39m\u001b[34m(name, mode, exist_ok)\u001b[39m\n",
      "\u001b[31mFileNotFoundError\u001b[39m: [WinError 3] 지정된 경로를 찾을 수 없습니다: ''"
     ]
    }
   ],
   "source": [
    "import win32com.client as win32\n",
    "import os\n",
    "\n",
    "# --- 1) 원본 파일 경로 & 출력 파일 경로 설정 ---\n",
    "file1 = r'sales_transactions.xlsx'\n",
    "file2 = r'support_tickets.xlsx'\n",
    "output_path = r'combined.xlsx'\n",
    "\n",
    "# --- 2) Excel 실행 ---\n",
    "excel = win32.gencache.EnsureDispatch('Excel.Application')\n",
    "excel.Visible = False  # 작업 중 엑셀 창을 보려면 True\n",
    "\n",
    "# --- 3) 새 통합 문서 생성 & Placeholder 시트 추가 ---\n",
    "wb = excel.Workbooks.Add()\n",
    "placeholder = wb.Sheets.Add(After=wb.Sheets(wb.Sheets.Count))\n",
    "placeholder.Name = 'Placeholder'\n",
    "\n",
    "# --- 4) 기본 생성 시트(Placeholder 제외) 삭제 ---\n",
    "#    이제 기본 시트가 하나 이상 남아 있어도 오류가 나지 않습니다.\n",
    "for sh in list(wb.Worksheets):\n",
    "    if sh.Name != 'Placeholder':\n",
    "        sh.Delete()\n",
    "\n",
    "# --- 5) 첫 번째 파일의 모든 시트 복사 ---\n",
    "wb1 = excel.Workbooks.Open(file1)\n",
    "for sh in wb1.Worksheets:\n",
    "    sh.Copy(After=wb.Sheets(wb.Sheets.Count))\n",
    "wb1.Close(False)\n",
    "\n",
    "# --- 6) 두 번째 파일의 모든 시트 복사 ---\n",
    "wb2 = excel.Workbooks.Open(file2)\n",
    "for sh in wb2.Worksheets:\n",
    "    sh.Copy(After=wb.Sheets(wb.Sheets.Count))\n",
    "wb2.Close(False)\n",
    "\n",
    "# --- 7) Placeholder 시트 삭제 ---\n",
    "wb.Sheets('Placeholder').Delete()\n",
    "\n",
    "# --- 8) 통합 문서 저장 & 종료 ---\n",
    "os.makedirs(os.path.dirname(output_path), exist_ok=True)\n",
    "wb.SaveAs(output_path)\n",
    "wb.Close(False)\n",
    "excel.Quit()\n",
    "\n",
    "print(f'✅ 통합 파일 저장 완료: {output_path}')\n"
   ]
  },
  {
   "cell_type": "code",
   "execution_count": 23,
   "id": "3fb78503",
   "metadata": {},
   "outputs": [
    {
     "name": "stdout",
     "output_type": "stream",
     "text": [
      "차트 저장: C:\\\\chart.png\n"
     ]
    }
   ],
   "source": [
    "# 📈 Excel 예제 3: C:\\학생점수.xlsx 차트 생성 → C:\\chart.png\n",
    "import win32com.client as win32, os\n",
    "\n",
    "path = r'C:\\학생점수.xlsx'\n",
    "if not os.path.exists(path):\n",
    "    raise FileNotFoundError(path + \" 없음\")\n",
    "\n",
    "excel = win32.gencache.EnsureDispatch('Excel.Application')\n",
    "excel.Visible = True\n",
    "wb = excel.Workbooks.Open(path); ws = wb.Worksheets('Sheet1')\n",
    "\n",
    "chart = wb.Charts.Add()\n",
    "chart.ChartType = 51  # 막대형\n",
    "chart.SetSourceData(Source=ws.Range(\"B2:D4\"))\n",
    "chart.HasTitle = True\n",
    "chart.ChartTitle.Text = \"학생별 점수\"\n",
    "img = r'C:\\\\chart.png'\n",
    "chart.Export(img)\n",
    "print(\"차트 저장:\", img)\n",
    "\n",
    "wb.Close(False); excel.Quit()"
   ]
  },
  {
   "cell_type": "markdown",
   "id": "84131e6b",
   "metadata": {},
   "source": [
    "## 📊 PowerPoint 자동화 예제 – 성적표 슬라이드 생성\n",
    "\n",
    "Excel 예제에서 만든 **C:\\학생점수.xlsx**를 읽어\n",
    "PowerPoint 성적표 슬라이드를 자동 생성합니다."
   ]
  },
  {
   "cell_type": "code",
   "execution_count": 28,
   "id": "ffb0bf9a",
   "metadata": {},
   "outputs": [
    {
     "name": "stdout",
     "output_type": "stream",
     "text": [
      "PowerPoint 저장: C:\\GradeReport.pptx\n"
     ]
    }
   ],
   "source": [
    "# PowerPoint 성적표 자동 생성\n",
    "import win32com.client as win32\n",
    "import pandas as pd\n",
    "\n",
    "excel_path = r'C:\\학생점수.xlsx'\n",
    "ppt_path   = r'C:\\GradeReport.pptx'\n",
    "\n",
    "df = pd.read_excel(excel_path)\n",
    "ppt = win32.gencache.EnsureDispatch('PowerPoint.Application')\n",
    "ppt.Visible = True\n",
    "pres = ppt.Presentations.Add()\n",
    "slide = pres.Slides.Add(1, 1)  # 제목 슬라이드\n",
    "slide.Shapes.Title.TextFrame.TextRange.Text = \"학생 성적표\"\n",
    "\n",
    "table = slide.Shapes.AddTable(df.shape[0]+1, df.shape[1], 50,150,600,300).Table\n",
    "# 헤더\n",
    "for col, name in enumerate(df.columns, start=1):\n",
    "    table.Cell(1,col).Shape.TextFrame.TextRange.Text = name\n",
    "# 데이터\n",
    "for r in range(df.shape[0]):\n",
    "    for c, val in enumerate(df.iloc[r], start=1):\n",
    "        table.Cell(r+2,c).Shape.TextFrame.TextRange.Text = str(val)\n",
    "\n",
    "pres.SaveAs(ppt_path)\n",
    "print(\"PowerPoint 저장:\", ppt_path)"
   ]
  },
  {
   "cell_type": "code",
   "execution_count": 29,
   "id": "6a14d9a2",
   "metadata": {},
   "outputs": [
    {
     "name": "stdout",
     "output_type": "stream",
     "text": [
      "저장: C:\\\\AutoReport.docx\n"
     ]
    }
   ],
   "source": [
    "# 📄 Word 예제 1: C:\\AutoReport.docx 생성\n",
    "import win32com.client as win32\n",
    "word = win32.gencache.EnsureDispatch('Word.Application'); word.Visible=True\n",
    "doc = word.Documents.Add()\n",
    "sel = word.Selection\n",
    "sel.Style = doc.Styles(\"제목 1\"); sel.TypeText(\"자동 보고서\\n\\n\")\n",
    "sel.Style = doc.Styles(\"본문\"); sel.TypeText(\"PyWin32 자동 생성 문서\")\n",
    "path = r'C:\\\\AutoReport.docx'; doc.SaveAs(path)\n",
    "print(\"저장:\",path)\n",
    "doc.Close(False); word.Quit()"
   ]
  },
  {
   "cell_type": "code",
   "execution_count": null,
   "id": "47ab30f4",
   "metadata": {},
   "outputs": [],
   "source": [
    "# 📄 Word 예제 2: 차트 삽입\n",
    "import win32com.client as win32, os\n",
    "doc_path=r'C:\\\\AutoReport.docx'; img=r'C:\\\\chart.png'\n",
    "word=win32.gencache.EnsureDispatch('Word.Application'); word.Visible=True\n",
    "doc=word.Documents.Open(doc_path); sel=word.Selection; sel.EndKey(6)\n",
    "sel.InlineShapes.AddPicture(img); sel.ParagraphFormat.Alignment=1\n",
    "doc.Save(); print(\"이미지 삽입 완료\")\n",
    "doc.Close(False); word.Quit()"
   ]
  },
  {
   "cell_type": "code",
   "execution_count": 30,
   "id": "42f56933",
   "metadata": {},
   "outputs": [
    {
     "name": "stdout",
     "output_type": "stream",
     "text": [
      "PDF 저장: C:\\\\AutoReport.pdf\n"
     ]
    }
   ],
   "source": [
    "# 📄 Word 예제 3: '보고서'→'리포트', C:\\AutoReport.pdf 저장\n",
    "import win32com.client as win32\n",
    "word=win32.gencache.EnsureDispatch('Word.Application'); word.Visible=True\n",
    "doc=word.Documents.Open(r'C:\\\\AutoReport.docx')\n",
    "find=word.Selection.Find; find.Text=\"보고서\"; find.Replacement.Text=\"리포트\"; find.Execute(Replace=2)\n",
    "path=r'C:\\\\AutoReport.pdf'; doc.SaveAs(path, FileFormat=17)\n",
    "print(\"PDF 저장:\",path)\n",
    "doc.Close(False); word.Quit()"
   ]
  },
  {
   "cell_type": "code",
   "execution_count": 31,
   "id": "ea3be01f",
   "metadata": {},
   "outputs": [
    {
     "ename": "AttributeError",
     "evalue": "'NoneType' object has no attribute 'Selection'",
     "output_type": "error",
     "traceback": [
      "\u001b[31m---------------------------------------------------------------------------\u001b[39m",
      "\u001b[31mAttributeError\u001b[39m                            Traceback (most recent call last)",
      "\u001b[36mCell\u001b[39m\u001b[36m \u001b[39m\u001b[32mIn[31]\u001b[39m\u001b[32m, line 7\u001b[39m\n\u001b[32m      5\u001b[39m model=\u001b[33m\"\u001b[39m\u001b[33mgemini-2.5-pro-preview-03-25\u001b[39m\u001b[33m\"\u001b[39m\n\u001b[32m      6\u001b[39m outlook=win32.gencache.EnsureDispatch(\u001b[33m\"\u001b[39m\u001b[33mOutlook.Application\u001b[39m\u001b[33m\"\u001b[39m)\n\u001b[32m----> \u001b[39m\u001b[32m7\u001b[39m sel=\u001b[43moutlook\u001b[49m\u001b[43m.\u001b[49m\u001b[43mActiveExplorer\u001b[49m\u001b[43m(\u001b[49m\u001b[43m)\u001b[49m\u001b[43m.\u001b[49m\u001b[43mSelection\u001b[49m\n\u001b[32m      8\u001b[39m \u001b[38;5;28;01mif\u001b[39;00m sel.Count==\u001b[32m0\u001b[39m: \u001b[38;5;28;01mraise\u001b[39;00m \u001b[38;5;167;01mRuntimeError\u001b[39;00m(\u001b[33m\"\u001b[39m\u001b[33m메일 선택 필요\u001b[39m\u001b[33m\"\u001b[39m)\n\u001b[32m      9\u001b[39m mail=sel.Item(\u001b[32m1\u001b[39m); orig=mail.Body\n",
      "\u001b[31mAttributeError\u001b[39m: 'NoneType' object has no attribute 'Selection'"
     ]
    }
   ],
   "source": [
    "# ✉️ Outlook 자동 답장 (Gemini API)\n",
    "import win32com.client as win32\n",
    "from google import genai; from google.genai import types\n",
    "client=genai.Client(api_key='GEMINI_API_KEY')\n",
    "model=\"gemini-2.5-pro-preview-03-25\"\n",
    "outlook=win32.gencache.EnsureDispatch(\"Outlook.Application\")\n",
    "sel=outlook.ActiveExplorer().Selection\n",
    "if sel.Count==0: raise RuntimeError(\"메일 선택 필요\")\n",
    "mail=sel.Item(1); orig=mail.Body\n",
    "prompt=f\"공손하게 답장 (한국어):\\n\\n{orig}\"\n",
    "contents=[types.Content(role=\"user\",parts=[types.Part.from_text(prompt)])]\n",
    "cfg=types.GenerateContentConfig(response_mime_type=\"text/plain\")\n",
    "reply_text=\"\"\n",
    "for ch in client.models.generate_content_stream(model=model,contents=contents,config=cfg):\n",
    "    reply_text+=ch.text\n",
    "rep=mail.Reply(); rep.Body=reply_text+\"\\n\\n(자동생성)\"\n",
    "rep.Display()\n",
    "print(\"답장 생성\")"
   ]
  },
  {
   "cell_type": "code",
   "execution_count": 35,
   "id": "50fe71a4",
   "metadata": {},
   "outputs": [
    {
     "name": "stdout",
     "output_type": "stream",
     "text": [
      "\n",
      "✅ PDF 열기 성공: C:\\\\AutoReport.pdf (총 1 페이지)\n",
      "\n",
      "--- 페이지 1 ---\n",
      "자동 리포트  \n",
      " \n",
      "PyWin32 자동 생성 문서\n",
      "\n"
     ]
    }
   ],
   "source": [
    "# extract_pdf_text.py\n",
    "\n",
    "import sys\n",
    "from PyPDF2 import PdfReader\n",
    "\n",
    "def extract_text_from_pdf(pdf_path: str):\n",
    "    \"\"\"\n",
    "    주어진 PDF 파일 경로를 열어, 페이지별 텍스트를 추출해 터미널(또는 셀 출력)에 표시합니다.\n",
    "    \"\"\"\n",
    "    try:\n",
    "        reader = PdfReader(pdf_path)\n",
    "    except FileNotFoundError:\n",
    "        print(f\"[Error] 파일을 찾을 수 없습니다: {pdf_path}\", file=sys.stderr)\n",
    "        return\n",
    "    except Exception as e:\n",
    "        print(f\"[Error] PDF 열기 실패: {e}\", file=sys.stderr)\n",
    "        return\n",
    "\n",
    "    print(f\"\\n✅ PDF 열기 성공: {pdf_path} (총 {len(reader.pages)} 페이지)\\n\")\n",
    "    for i, page in enumerate(reader.pages, start=1):\n",
    "        text = page.extract_text()\n",
    "        print(f\"--- 페이지 {i} ---\")\n",
    "        if text:\n",
    "            print(text.strip())\n",
    "        else:\n",
    "            print(\"[이 페이지에 텍스트가 없습니다]\")\n",
    "        print()\n",
    "\n",
    "def get_pdf_path_from_args():\n",
    "    \"\"\"\n",
    "    sys.argv 에서 -- 로 시작하지 않는 첫 번째 값을 PDF 경로로 간주.\n",
    "    \"\"\"\n",
    "    raw = sys.argv[1:]\n",
    "    # Jupyter 등의 내부 옵션(--f=...) 은 제거\n",
    "    candidates = [arg for arg in raw if not arg.startswith('-')]\n",
    "    return candidates[0] if candidates else None\n",
    "\n",
    "if __name__ == \"__main__\":\n",
    "    # 1) CLI 인자 우선\n",
    "    pdf_file = get_pdf_path_from_args()\n",
    "    # 2) CLI 인자가 없으면 대화형 입력\n",
    "    if not pdf_file:\n",
    "        pdf_file = input(\"▶ 추출할 PDF 파일 경로를 입력하세요: \").strip()\n",
    "    extract_text_from_pdf(pdf_file)\n"
   ]
  }
 ],
 "metadata": {
  "kernelspec": {
   "display_name": "Python 3",
   "language": "python",
   "name": "python3"
  },
  "language_info": {
   "codemirror_mode": {
    "name": "ipython",
    "version": 3
   },
   "file_extension": ".py",
   "mimetype": "text/x-python",
   "name": "python",
   "nbconvert_exporter": "python",
   "pygments_lexer": "ipython3",
   "version": "3.13.3"
  }
 },
 "nbformat": 4,
 "nbformat_minor": 5
}
