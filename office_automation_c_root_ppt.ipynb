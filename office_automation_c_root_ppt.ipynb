{
 "cells": [
  {
   "cell_type": "markdown",
   "id": "97b71a02",
   "metadata": {},
   "source": [
    "# 📊📄📈 PyWin32 Office 자동화 실습 노트북 (C:\\ 루트 저장 + PowerPoint)\n",
    "\n",
    "이 노트북은 Windows 환경에서 **C 드라이브 루트**에 파일을 저장하며, PyWin32를 사용해\n",
    "- Excel 자동화 3가지\n",
    "- PowerPoint 성적표 자동 생성\n",
    "- Word 자동화 3가지\n",
    "- Outlook Gemini API 자동 답장\n",
    "\n",
    "예제를 포함합니다.\n"
   ]
  },
  {
   "cell_type": "code",
   "execution_count": null,
   "id": "25afb0e1",
   "metadata": {},
   "outputs": [],
   "source": [
    "# 필요한 패키지 설치 (최초 1회)\n",
    "# !pip install pywin32 google-genai pandas openpyxl\n",
    "print(\"패키지 설치 확인\")"
   ]
  },
  {
   "cell_type": "code",
   "execution_count": null,
   "id": "a906e2e2",
   "metadata": {},
   "outputs": [],
   "source": [
    "# 📈 Excel 예제 1: 새 통합 문서 생성 → C:\\학생점수.xlsx 저장\n",
    "import win32com.client as win32\n",
    "\n",
    "excel = win32.gencache.EnsureDispatch('Excel.Application')\n",
    "excel.Visible = True\n",
    "wb = excel.Workbooks.Add()\n",
    "ws = wb.Worksheets('Sheet1')\n",
    "\n",
    "data = [['이름','국어','영어','수학'],['철수',90,85,92],['영희',88,79,95],['민수',75,80,78]]\n",
    "for r, row in enumerate(data, start=1):\n",
    "    for c, val in enumerate(row, start=1):\n",
    "        ws.Cells(r,c).Value = val\n",
    "\n",
    "path = r'C:\\\\학생점수.xlsx'\n",
    "wb.SaveAs(path)\n",
    "print(\"저장:\", path)\n",
    "wb.Close(False); excel.Quit()"
   ]
  },
  {
   "cell_type": "code",
   "execution_count": null,
   "id": "3d035067",
   "metadata": {},
   "outputs": [],
   "source": [
    "# 📈 Excel 예제 2: C:\\학생점수.xlsx 열기 → B2 +5 점 → 저장\n",
    "import win32com.client as win32, os\n",
    "\n",
    "path = r'C:\\\\학생점수.xlsx'\n",
    "if not os.path.exists(path):\n",
    "    raise FileNotFoundError(path + \" 없음\")\n",
    "\n",
    "excel = win32.gencache.EnsureDispatch('Excel.Application')\n",
    "excel.Visible = True\n",
    "wb = excel.Workbooks.Open(path)\n",
    "ws = wb.Worksheets('Sheet1')\n",
    "\n",
    "orig = ws.Range(\"B2\").Value\n",
    "ws.Range(\"B2\").Value = orig + 5\n",
    "wb.Save()\n",
    "print(\"B2 업데이트:\", ws.Range(\"B2\").Value)\n",
    "\n",
    "wb.Close(False); excel.Quit()"
   ]
  },
  {
   "cell_type": "code",
   "execution_count": null,
   "id": "3fb78503",
   "metadata": {},
   "outputs": [],
   "source": [
    "# 📈 Excel 예제 3: C:\\학생점수.xlsx 차트 생성 → C:\\chart.png\n",
    "import win32com.client as win32, os\n",
    "\n",
    "path = r'C:\\\\학생점수.xlsx'\n",
    "if not os.path.exists(path):\n",
    "    raise FileNotFoundError(path + \" 없음\")\n",
    "\n",
    "excel = win32.gencache.EnsureDispatch('Excel.Application')\n",
    "excel.Visible = True\n",
    "wb = excel.Workbooks.Open(path); ws = wb.Worksheets('Sheet1')\n",
    "\n",
    "chart = wb.Charts.Add()\n",
    "chart.ChartType = 51  # 막대형\n",
    "chart.SetSourceData(Source=ws.Range(\"B2:D4\"))\n",
    "chart.HasTitle = True\n",
    "chart.ChartTitle.Text = \"학생별 점수\"\n",
    "img = r'C:\\\\chart.png'\n",
    "chart.Export(img)\n",
    "print(\"차트 저장:\", img)\n",
    "\n",
    "wb.Close(False); excel.Quit()"
   ]
  },
  {
   "cell_type": "markdown",
   "id": "84131e6b",
   "metadata": {},
   "source": [
    "## 📊 PowerPoint 자동화 예제 – 성적표 슬라이드 생성\n",
    "\n",
    "Excel 예제에서 만든 **C:\\학생점수.xlsx**를 읽어\n",
    "PowerPoint 성적표 슬라이드를 자동 생성합니다."
   ]
  },
  {
   "cell_type": "code",
   "execution_count": null,
   "id": "ffb0bf9a",
   "metadata": {},
   "outputs": [],
   "source": [
    "# PowerPoint 성적표 자동 생성\n",
    "import win32com.client as win32\n",
    "import pandas as pd\n",
    "\n",
    "excel_path = r'C:\\\\학생점수.xlsx'\n",
    "ppt_path   = r'C:\\\\GradeReport.pptx'\n",
    "\n",
    "df = pd.read_excel(excel_path)\n",
    "ppt = win32.gencache.EnsureDispatch('PowerPoint.Application')\n",
    "ppt.Visible = True\n",
    "pres = ppt.Presentations.Add()\n",
    "slide = pres.Slides.Add(1, 1)  # 제목 슬라이드\n",
    "slide.Shapes.Title.TextFrame.TextRange.Text = \"학생 성적표\"\n",
    "\n",
    "table = slide.Shapes.AddTable(df.shape[0]+1, df.shape[1], 50,150,600,300).Table\n",
    "# 헤더\n",
    "for col, name in enumerate(df.columns, start=1):\n",
    "    table.Cell(1,col).Shape.TextFrame.TextRange.Text = name\n",
    "# 데이터\n",
    "for r in range(df.shape[0]):\n",
    "    for c, val in enumerate(df.iloc[r], start=1):\n",
    "        table.Cell(r+2,c).Shape.TextFrame.TextRange.Text = str(val)\n",
    "\n",
    "pres.SaveAs(ppt_path)\n",
    "print(\"PowerPoint 저장:\", ppt_path)"
   ]
  },
  {
   "cell_type": "code",
   "execution_count": null,
   "id": "6a14d9a2",
   "metadata": {},
   "outputs": [],
   "source": [
    "# 📄 Word 예제 1: C:\\AutoReport.docx 생성\n",
    "import win32com.client as win32\n",
    "word = win32.gencache.EnsureDispatch('Word.Application'); word.Visible=True\n",
    "doc = word.Documents.Add()\n",
    "sel = word.Selection\n",
    "sel.Style = doc.Styles(\"제목 1\"); sel.TypeText(\"자동 보고서\\n\\n\")\n",
    "sel.Style = doc.Styles(\"본문\"); sel.TypeText(\"PyWin32 자동 생성 문서\")\n",
    "path = r'C:\\\\AutoReport.docx'; doc.SaveAs(path)\n",
    "print(\"저장:\",path)\n",
    "doc.Close(False); word.Quit()"
   ]
  },
  {
   "cell_type": "code",
   "execution_count": null,
   "id": "47ab30f4",
   "metadata": {},
   "outputs": [],
   "source": [
    "# 📄 Word 예제 2: 차트 삽입\n",
    "import win32com.client as win32, os\n",
    "doc_path=r'C:\\\\AutoReport.docx'; img=r'C:\\\\chart.png'\n",
    "word=win32.gencache.EnsureDispatch('Word.Application'); word.Visible=True\n",
    "doc=word.Documents.Open(doc_path); sel=word.Selection; sel.EndKey(6)\n",
    "sel.InlineShapes.AddPicture(img); sel.ParagraphFormat.Alignment=1\n",
    "doc.Save(); print(\"이미지 삽입 완료\")\n",
    "doc.Close(False); word.Quit()"
   ]
  },
  {
   "cell_type": "code",
   "execution_count": null,
   "id": "42f56933",
   "metadata": {},
   "outputs": [],
   "source": [
    "# 📄 Word 예제 3: '보고서'→'리포트', C:\\AutoReport.pdf 저장\n",
    "import win32com.client as win32\n",
    "word=win32.gencache.EnsureDispatch('Word.Application'); word.Visible=True\n",
    "doc=word.Documents.Open(r'C:\\\\AutoReport.docx')\n",
    "find=word.Selection.Find; find.Text=\"보고서\"; find.Replacement.Text=\"리포트\"; find.Execute(Replace=2)\n",
    "path=r'C:\\\\AutoReport.pdf'; doc.SaveAs(path, FileFormat=17)\n",
    "print(\"PDF 저장:\",path)\n",
    "doc.Close(False); word.Quit()"
   ]
  },
  {
   "cell_type": "code",
   "execution_count": null,
   "id": "ea3be01f",
   "metadata": {},
   "outputs": [],
   "source": [
    "# ✉️ Outlook 자동 답장 (Gemini API)\n",
    "import win32com.client as win32\n",
    "from google import genai; from google.genai import types\n",
    "client=genai.Client(api_key='GEMINI_API_KEY')\n",
    "model=\"gemini-2.5-pro-preview-03-25\"\n",
    "outlook=win32.gencache.EnsureDispatch(\"Outlook.Application\")\n",
    "sel=outlook.ActiveExplorer().Selection\n",
    "if sel.Count==0: raise RuntimeError(\"메일 선택 필요\")\n",
    "mail=sel.Item(1); orig=mail.Body\n",
    "prompt=f\"공손하게 답장 (한국어):\\n\\n{orig}\"\n",
    "contents=[types.Content(role=\"user\",parts=[types.Part.from_text(prompt)])]\n",
    "cfg=types.GenerateContentConfig(response_mime_type=\"text/plain\")\n",
    "reply_text=\"\"\n",
    "for ch in client.models.generate_content_stream(model=model,contents=contents,config=cfg):\n",
    "    reply_text+=ch.text\n",
    "rep=mail.Reply(); rep.Body=reply_text+\"\\n\\n(자동생성)\"\n",
    "rep.Display()\n",
    "print(\"답장 생성\")"
   ]
  }
 ],
 "metadata": {},
 "nbformat": 4,
 "nbformat_minor": 5
}
