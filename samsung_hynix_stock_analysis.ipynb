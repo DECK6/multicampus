{
 "cells": [
  {
   "cell_type": "markdown",
   "id": "8a842a1d",
   "metadata": {},
   "source": [
    "# 📊 삼성전자·SK하이닉스 주가 분석 실습 노트북\n",
    "\n",
    "이 노트북은 **yfinance**로 가져온 최근 1년치 데이터를 사용해:\n",
    "\n",
    "- 거래량 0 제거 및 결측치 보간  \n",
    "- 5일·20일 이동평균 & 볼린저 밴드 계산  \n",
    "- 거래량 상위 5일 & 평균 거래량  \n",
    "- 일간 수익률 및 연간 변동성  \n",
    "- 종목 간 수익률 상관관계 히트맵  \n",
    "- 볼린저 밴드 시각화  \n",
    "- 계산 지표를 포함한 Excel 파일 저장\n",
    "\n",
    "을 순차적으로 실습합니다.\n"
   ]
  },
  {
   "cell_type": "code",
   "execution_count": null,
   "id": "4b42cfd4",
   "metadata": {},
   "outputs": [],
   "source": [
    "# (최초 1회) 필요한 패키지 설치\n",
    "# !pip install yfinance pandas numpy matplotlib seaborn openpyxl\n",
    "\n",
    "import yfinance as yf\n",
    "import pandas as pd\n",
    "import numpy as np\n",
    "import matplotlib.pyplot as plt\n",
    "import seaborn as sns\n",
    "from datetime import datetime, timedelta\n",
    "\n",
    "# 한글 폰트 및 음수 표시 설정 (macOS: 주석 처리)\n",
    "plt.rcParams['font.family'] = 'AppleGothic'\n",
    "plt.rcParams['axes.unicode_minus'] = False\n"
   ]
  },
  {
   "cell_type": "code",
   "execution_count": null,
   "id": "b509902e",
   "metadata": {},
   "outputs": [],
   "source": [
    "# 최근 1년 데이터 범위 설정\n",
    "end = datetime.today()\n",
    "start = end - timedelta(days=365)\n",
    "\n",
    "tickers = {'삼성전자':'005930.KS', 'SK하이닉스':'000660.KS'}\n",
    "\n",
    "raw_data = {}\n",
    "for name, ticker in tickers.items():\n",
    "    df = yf.download(ticker, start=start, end=end)\n",
    "    df['종목'] = name\n",
    "    raw_data[name] = df\n",
    "    print(f\"{name} 데이터 shape:\", df.shape)\n",
    "\n",
    "# 멀티인덱스로 결합\n",
    "price_df = pd.concat(raw_data).reset_index().set_index(['종목','Date'])\n",
    "price_df.head()\n"
   ]
  },
  {
   "cell_type": "code",
   "execution_count": null,
   "id": "574ff3cf",
   "metadata": {},
   "outputs": [],
   "source": [
    "# ① 거래량 0 제거 ② 결측치는 직전값으로 보간\n",
    "cleaned = (\n",
    "    price_df[price_df['Volume'] != 0]\n",
    "    .groupby(level=0)\n",
    "    .apply(lambda df: df.ffill())\n",
    ")\n",
    "\n",
    "print(\"정제 후 데이터 shape:\", cleaned.shape)\n",
    "cleaned.head()\n"
   ]
  },
  {
   "cell_type": "code",
   "execution_count": null,
   "id": "f40ceef2",
   "metadata": {},
   "outputs": [],
   "source": [
    "# 5일, 20일 이동평균 및 볼린저 밴드(20일 ±2σ) 추가\n",
    "def add_indicators(df):\n",
    "    df = df.copy()\n",
    "    df['MA5'] = df['Close'].rolling(5).mean()\n",
    "    df['MA20'] = df['Close'].rolling(20).mean()\n",
    "    std20 = df['Close'].rolling(20).std()\n",
    "    df['BB_upper'] = df['MA20'] + 2 * std20\n",
    "    df['BB_lower'] = df['MA20'] - 2 * std20\n",
    "    return df\n",
    "\n",
    "ind_df = cleaned.groupby(level=0, group_keys=False).apply(add_indicators)\n",
    "ind_df.head(10)\n"
   ]
  },
  {
   "cell_type": "code",
   "execution_count": null,
   "id": "a822d195",
   "metadata": {},
   "outputs": [],
   "source": [
    "# 종목별 거래량 상위 5일과 평균 거래량 계산\n",
    "for name in tickers:\n",
    "    sub = ind_df.loc[name]\n",
    "    top5 = sub.nlargest(5, 'Volume')\n",
    "    avg_vol = sub['Volume'].mean()\n",
    "    print(f\"◆ {name} 거래량 TOP 5\")\n",
    "    display(top5[['Close','Volume']])\n",
    "    print(f\"평균 거래량: {avg_vol:,.0f}\\n\")\n"
   ]
  },
  {
   "cell_type": "code",
   "execution_count": null,
   "id": "64a8c60c",
   "metadata": {},
   "outputs": [],
   "source": [
    "# 일간 수익률 계산 및 연간 변동성(252거래일 기준) 구하기\n",
    "returns = ind_df['Close'].groupby(level=0).apply(lambda x: x.pct_change())\n",
    "daily_ret = returns.unstack(level=0)\n",
    "annual_vol = daily_ret.std() * np.sqrt(252)\n",
    "\n",
    "print(\"연간 변동성:\")\n",
    "display(annual_vol)\n",
    "daily_ret.head()\n"
   ]
  },
  {
   "cell_type": "code",
   "execution_count": null,
   "id": "e21ae5e2",
   "metadata": {},
   "outputs": [],
   "source": [
    "# 일간 수익률 상관관계 히트맵\n",
    "corr = daily_ret.corr()\n",
    "sns.heatmap(corr, annot=True, cmap='coolwarm', fmt='.2f')\n",
    "plt.title('일간 수익률 상관관계')\n",
    "plt.show()\n"
   ]
  },
  {
   "cell_type": "code",
   "execution_count": null,
   "id": "08219515",
   "metadata": {},
   "outputs": [],
   "source": [
    "# 볼린저 밴드 시각화\n",
    "for name in tickers:\n",
    "    sub = ind_df.loc[name]\n",
    "    plt.figure(figsize=(10,4))\n",
    "    plt.plot(sub.index, sub['Close'], label='Close')\n",
    "    plt.plot(sub.index, sub['MA20'], label='MA20')\n",
    "    plt.fill_between(sub.index, sub['BB_lower'], sub['BB_upper'], alpha=0.2, label='BB')\n",
    "    plt.title(f\"{name} Bollinger Bands\")\n",
    "    plt.legend()\n",
    "    plt.show()\n"
   ]
  },
  {
   "cell_type": "code",
   "execution_count": null,
   "id": "03591178",
   "metadata": {},
   "outputs": [],
   "source": [
    "# 계산 결과를 Excel 파일로 저장\n",
    "with pd.ExcelWriter('samsung_hynix_analysis.xlsx', engine='openpyxl') as writer:\n",
    "    for name in tickers:\n",
    "        ind_df.loc[name].to_excel(writer, sheet_name=name)\n",
    "    daily_ret.to_excel(writer, sheet_name='DailyReturns')\n",
    "print(\"Excel 파일 저장 완료 → samsung_hynix_analysis.xlsx\")\n"
   ]
  }
 ],
 "metadata": {},
 "nbformat": 4,
 "nbformat_minor": 5
}
